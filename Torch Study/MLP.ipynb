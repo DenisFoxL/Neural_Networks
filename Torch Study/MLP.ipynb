{
 "cells": [
  {
   "cell_type": "markdown",
   "source": [
    "# Multilayer Perceptron for MNIST dataset"
   ],
   "metadata": {
    "collapsed": false
   }
  },
  {
   "cell_type": "markdown",
   "source": [
    "from https://colab.research.google.com/drive/1fH4YVMarfwGZVTbS2WIXIxJCT9JOPOzM?usp=sharing#scrollTo=eC2P8WJuREv_"
   ],
   "metadata": {
    "collapsed": false
   }
  },
  {
   "cell_type": "markdown",
   "source": [
    "### Importing libraries"
   ],
   "metadata": {
    "collapsed": false
   }
  },
  {
   "cell_type": "code",
   "execution_count": 1,
   "outputs": [],
   "source": [
    "import torch\n",
    "import torch.nn as nn\n",
    "import torch.nn.functional as F\n",
    "import torch.optim as optim\n",
    "import torch.utils.data as data"
   ],
   "metadata": {
    "collapsed": false
   }
  },
  {
   "cell_type": "code",
   "execution_count": 2,
   "outputs": [],
   "source": [
    "import torchvision.transforms as transforms\n",
    "import torchvision.datasets as datasets"
   ],
   "metadata": {
    "collapsed": false
   }
  },
  {
   "cell_type": "code",
   "execution_count": 3,
   "outputs": [
    {
     "name": "stderr",
     "output_type": "stream",
     "text": [
      "C:\\Users\\denis\\anaconda3\\envs\\Geeshot\\lib\\site-packages\\scipy\\__init__.py:146: UserWarning: A NumPy version >=1.16.5 and <1.23.0 is required for this version of SciPy (detected version 1.23.5\n",
      "  warnings.warn(f\"A NumPy version >={np_minversion} and <{np_maxversion}\"\n"
     ]
    }
   ],
   "source": [
    "from sklearn import metrics\n",
    "from sklearn import decomposition\n",
    "from sklearn import manifold\n",
    "import matplotlib.pyplot as plt\n",
    "import numpy as np"
   ],
   "metadata": {
    "collapsed": false
   }
  },
  {
   "cell_type": "code",
   "execution_count": 4,
   "outputs": [],
   "source": [
    "import copy\n",
    "import random\n",
    "import time"
   ],
   "metadata": {
    "collapsed": false
   }
  },
  {
   "cell_type": "markdown",
   "source": [
    "### Reproducibility"
   ],
   "metadata": {
    "collapsed": false
   }
  },
  {
   "cell_type": "code",
   "execution_count": 5,
   "outputs": [],
   "source": [
    "# Set the seed for reproducibility\n",
    "SEED = 420\n",
    "random.seed(SEED)  # Set the random seed for Python's built-in random module\n",
    "np.random.seed(SEED)  # Set the random seed for NumPy\n",
    "torch.manual_seed(SEED)  # Set the random seed for PyTorch's CPU RNG\n",
    "torch.cuda.manual_seed(SEED)  # Set the random seed for PyTorch's CUDA RNG\n",
    "torch.backends.cudnn.deterministic = True  # Make PyTorch's CUDA convolution functions deterministic"
   ],
   "metadata": {
    "collapsed": false
   }
  },
  {
   "cell_type": "markdown",
   "source": [
    "### Downloading dataset"
   ],
   "metadata": {
    "collapsed": false
   }
  },
  {
   "cell_type": "code",
   "execution_count": 6,
   "outputs": [],
   "source": [
    "ROOT = '.data'\n",
    "train_data = datasets.MNIST(root = ROOT, train = True, download = True)"
   ],
   "metadata": {
    "collapsed": false
   }
  },
  {
   "cell_type": "markdown",
   "source": [
    "### Calculating statistics for normalization"
   ],
   "metadata": {
    "collapsed": false
   }
  },
  {
   "cell_type": "code",
   "execution_count": 7,
   "outputs": [],
   "source": [
    "# train_data is a PyTorch dataset\n",
    "# train_data.data is a tensor containing pixel values of the dataset\n",
    "# Compute the mean and standard deviation of pixel values in train_data\n",
    "mean = train_data.data.float().mean() / 255\n",
    "std = train_data.data.float().std() / 255\n",
    "# / 255 scales the pixel values between 0 and 1"
   ],
   "metadata": {
    "collapsed": false
   }
  },
  {
   "cell_type": "code",
   "execution_count": 8,
   "outputs": [
    {
     "name": "stdout",
     "output_type": "stream",
     "text": [
      "Calculated mean: 0.131\n",
      "Calculated std: 0.308\n"
     ]
    }
   ],
   "source": [
    "print(f'Calculated mean: {mean:.3f}')\n",
    "print(f'Calculated std: {std:.3f}')"
   ],
   "metadata": {
    "collapsed": false
   }
  },
  {
   "cell_type": "markdown",
   "source": [
    "### Defining transformations"
   ],
   "metadata": {
    "collapsed": false
   }
  },
  {
   "cell_type": "code",
   "execution_count": 9,
   "outputs": [],
   "source": [
    "# define transformations for the training data\n",
    "train_transforms = transforms.Compose([\n",
    "                        # randomly rotate the image by up to 5 degrees\n",
    "                        transforms.RandomRotation(5, fill=(0,)),\n",
    "                        # randomly crop a 28x28 square from the image with padding of 2 pixels\n",
    "                        transforms.RandomCrop(28, padding = 2),\n",
    "                        # convert the image to a PyTorch tensor\n",
    "                        transforms.ToTensor(),\n",
    "                        # normalize the tensor using the mean and standard deviation\n",
    "                        transforms.Normalize(mean = [mean], std = [std])\n",
    "                                 ])\n",
    "\n",
    "# define transformations for the testing data\n",
    "test_transforms = transforms.Compose([\n",
    "                       # convert the image to a PyTorch tensor\n",
    "                       transforms.ToTensor(),\n",
    "                       # normalize the tensor using the mean and standard deviation\n",
    "                       transforms.Normalize(mean = [mean], std = [std])\n",
    "                                 ])"
   ],
   "metadata": {
    "collapsed": false
   }
  },
  {
   "cell_type": "markdown",
   "source": [
    "### Loading dataset"
   ],
   "metadata": {
    "collapsed": false
   }
  },
  {
   "cell_type": "code",
   "execution_count": 10,
   "outputs": [],
   "source": [
    "# Load the MNIST train and test datasets with the defined transforms\n",
    "train_data = datasets.MNIST(root=ROOT, train=True, download=True, transform=train_transforms)\n",
    "test_data = datasets.MNIST(root=ROOT, train=False, download=True, transform=test_transforms)"
   ],
   "metadata": {
    "collapsed": false
   }
  },
  {
   "cell_type": "code",
   "execution_count": 11,
   "outputs": [
    {
     "name": "stdout",
     "output_type": "stream",
     "text": [
      "Number of training examples: 60000\n",
      "Number of testing examples: 10000\n"
     ]
    }
   ],
   "source": [
    "print(f'Number of training examples: {len(train_data)}')\n",
    "print(f'Number of testing examples: {len(test_data)}')"
   ],
   "metadata": {
    "collapsed": false
   }
  },
  {
   "cell_type": "markdown",
   "source": [
    "### Visualizing data"
   ],
   "metadata": {
    "collapsed": false
   }
  },
  {
   "cell_type": "code",
   "execution_count": 12,
   "outputs": [],
   "source": [
    "def plot_images(images):\n",
    "\n",
    "    # get the number of images\n",
    "    n_images = len(images)\n",
    "\n",
    "    # calculate the number of rows and columns needed for a square grid\n",
    "    rows = int(np.sqrt(n_images))\n",
    "    cols = int(np.sqrt(n_images))\n",
    "\n",
    "    # create a new figure\n",
    "    fig = plt.figure()\n",
    "\n",
    "    # loop through each image in the list and add it to the plot\n",
    "    for i in range(rows*cols):\n",
    "        ax = fig.add_subplot(rows, cols, i+1)\n",
    "        ax.imshow(images[i].view(28, 28).cpu().numpy(), cmap = 'bone')\n",
    "        ax.axis('off')"
   ],
   "metadata": {
    "collapsed": false
   }
  },
  {
   "cell_type": "code",
   "execution_count": 13,
   "outputs": [
    {
     "data": {
      "text/plain": "<Figure size 640x480 with 25 Axes>",
      "image/png": "[encoded data removed]"
     },
     "metadata": {},
     "output_type": "display_data"
    }
   ],
   "source": [
    "# Define the number of images to display\n",
    "N_IMAGES = 25\n",
    "\n",
    "# Select N_IMAGES random indices without replacement from the training data\n",
    "indices = random.sample(range(len(train_data)), N_IMAGES)\n",
    "\n",
    "# Get the images and labels corresponding to the selected indices\n",
    "images = [train_data[i][0] for i in indices]\n",
    "\n",
    "# Plot the images\n",
    "plot_images(images)"
   ],
   "metadata": {
    "collapsed": false
   }
  },
  {
   "cell_type": "markdown",
   "source": [
    "### Creating validation set"
   ],
   "metadata": {
    "collapsed": false
   }
  },
  {
   "cell_type": "code",
   "execution_count": 14,
   "outputs": [],
   "source": [
    "VALID_RATIO = 0.9\n",
    "\n",
    "# Calculate the number of training and validation examples\n",
    "n_train_examples = int(len(train_data) * VALID_RATIO)\n",
    "n_valid_examples = len(train_data) - n_train_examples\n",
    "\n",
    "# Split the original train_data into train and valid datasets based on the calculated examples\n",
    "train_data, valid_data = data.random_split(train_data, [n_train_examples, n_valid_examples])"
   ],
   "metadata": {
    "collapsed": false
   }
  },
  {
   "cell_type": "code",
   "execution_count": 15,
   "outputs": [
    {
     "name": "stdout",
     "output_type": "stream",
     "text": [
      "Number of training examples: 54000\n",
      "Number of validation examples: 6000\n",
      "Number of testing examples: 10000\n"
     ]
    }
   ],
   "source": [
    "print(f'Number of training examples: {len(train_data)}')\n",
    "print(f'Number of validation examples: {len(valid_data)}')\n",
    "print(f'Number of testing examples: {len(test_data)}')"
   ],
   "metadata": {
    "collapsed": false
   }
  },
  {
   "cell_type": "markdown",
   "source": [
    "### Removing tranforms from validation set"
   ],
   "metadata": {
    "collapsed": false
   }
  },
  {
   "cell_type": "code",
   "execution_count": 16,
   "outputs": [],
   "source": [
    "valid_data = copy.deepcopy(valid_data)  # deepcopy in order to not affect the train data\n",
    "valid_data.dataset.transform = test_transforms  # applying same transforms as for test data"
   ],
   "metadata": {
    "collapsed": false
   }
  },
  {
   "cell_type": "markdown",
   "source": [
    "### Creating batches of the data for the SGD algorithm"
   ],
   "metadata": {
    "collapsed": false
   }
  },
  {
   "cell_type": "code",
   "execution_count": 17,
   "outputs": [],
   "source": [
    "BATCH_SIZE = 64\n",
    "\n",
    "# Create training data iterator with batch size 64 and shuffling\n",
    "train_iterator = data.DataLoader(train_data,\n",
    "                                 shuffle=True,\n",
    "                                 batch_size=BATCH_SIZE)\n",
    "\n",
    "# Create validation data iterator with batch size 64\n",
    "valid_iterator = data.DataLoader(valid_data,\n",
    "                                 batch_size=BATCH_SIZE)\n",
    "\n",
    "# Create test data iterator with batch size 64\n",
    "test_iterator = data.DataLoader(test_data,\n",
    "                                batch_size=BATCH_SIZE)"
   ],
   "metadata": {
    "collapsed": false
   }
  },
  {
   "cell_type": "markdown",
   "source": [
    "### Defining MLP object"
   ],
   "metadata": {
    "collapsed": false
   }
  },
  {
   "cell_type": "code",
   "execution_count": 18,
   "outputs": [],
   "source": [
    "class MLP(nn.Module):\n",
    "    def __init__(self, input_dim, output_dim):\n",
    "        super().__init__()\n",
    "\n",
    "        # MLP architecture - input, hidden 1, hidden 2, output\n",
    "        self.input_fc = nn.Linear(input_dim, 250)  # hidden 1\n",
    "        self.hidden_fc = nn.Linear(250, 100)  # hidden 2\n",
    "        self.output_fc = nn.Linear(100, output_dim)\n",
    "\n",
    "    def forward(self, x):\n",
    "        \"\"\"\n",
    "        Forward pass of the MLP model.\n",
    "\n",
    "        Args:\n",
    "            x: Input tensor of shape [batch size, height, width].\n",
    "\n",
    "        Returns:\n",
    "            y_pred: Output tensor of shape [batch size, output dim].\n",
    "            h_2: Hidden layer output tensor of shape [batch size, 100].\n",
    "        \"\"\"\n",
    "        #x = [batch size, height, width]\n",
    "        batch_size = x.shape[0]\n",
    "\n",
    "        x = x.view(batch_size, -1)\n",
    "        # Reshape x to [batch size, height * width]\n",
    "\n",
    "        h_1 = F.relu(self.input_fc(x))  # h_1 = [batch size, 250]\n",
    "        # Apply ReLU activation to the hidden layer 1 output\n",
    "\n",
    "        h_2 = F.relu(self.hidden_fc(h_1))  # h_2 = [batch size, 100]\n",
    "        # Apply ReLU activation to the hidden layer 2 output\n",
    "\n",
    "        y_pred = self.output_fc(h_2)  # y_pred = [batch size, output dim]\n",
    "        # Compute the output predictions\n",
    "\n",
    "        return y_pred, h_2"
   ],
   "metadata": {
    "collapsed": false
   }
  },
  {
   "cell_type": "markdown",
   "source": [
    "### Create model"
   ],
   "metadata": {
    "collapsed": false
   }
  },
  {
   "cell_type": "code",
   "execution_count": 19,
   "outputs": [],
   "source": [
    "INPUT_DIM = 28 * 28\n",
    "OUTPUT_DIM = 10\n",
    "\n",
    "model = MLP(INPUT_DIM, OUTPUT_DIM)"
   ],
   "metadata": {
    "collapsed": false
   }
  },
  {
   "cell_type": "markdown",
   "source": [
    "### Count parameters"
   ],
   "metadata": {
    "collapsed": false
   }
  },
  {
   "cell_type": "code",
   "execution_count": 20,
   "outputs": [],
   "source": [
    "def count_parameters(model):\n",
    "    \"\"\"\n",
    "    Count the total number of trainable parameters in the model.\n",
    "\n",
    "    Args:\n",
    "        model: The model for which to count the parameters.\n",
    "\n",
    "    Returns:\n",
    "        total_params: The total number of trainable parameters in the model.\n",
    "    \"\"\"\n",
    "    total_params = sum(p.numel() for p in model.parameters() if p.requires_grad)\n",
    "    return total_params"
   ],
   "metadata": {
    "collapsed": false
   }
  },
  {
   "cell_type": "code",
   "execution_count": 21,
   "outputs": [
    {
     "name": "stdout",
     "output_type": "stream",
     "text": [
      "The model has 222,360 trainable parameters\n"
     ]
    }
   ],
   "source": [
    "print(f'The model has {count_parameters(model):,} trainable parameters')"
   ],
   "metadata": {
    "collapsed": false
   }
  },
  {
   "cell_type": "markdown",
   "source": [
    "### Define optimizer and loss function"
   ],
   "metadata": {
    "collapsed": false
   }
  },
  {
   "cell_type": "code",
   "execution_count": null,
   "outputs": [],
   "source": [
    "optimizer = optim.Adam(model.parameters())\n",
    "\"\"\"\n",
    "Optimizer for updating the model parameters.\n",
    "\n",
    "The Adam optimizer is used to update the parameters of the model during training. It computes adaptive learning rates for each parameter and performs stochastic optimization.\n",
    "\n",
    "\"\"\"\n",
    "\n",
    "criterion = nn.CrossEntropyLoss()\n",
    "\"\"\"\n",
    "Loss criterion for training the model.\n",
    "\n",
    "The CrossEntropyLoss criterion is used to compute the loss between the model's predicted output and the target labels during training. It is commonly used for multi-class classification problems.\n",
    "\n",
    "\"\"\"\n",
    "\n",
    "device = torch.device('cuda' if torch.cuda.is_available() else 'cpu')\n",
    "\"\"\"\n",
    "Device selection for model and tensor operations.\n",
    "\n",
    "The device variable determines whether to use a GPU ('cuda') or CPU ('cpu') for tensor operations. If a GPU is available, the model and tensors will be moved to the GPU device for faster computation.\n",
    "\n",
    "\"\"\"\n",
    "model = model.to(device)  # Move the model to the selected device.\n",
    "criterion = criterion.to(device)  # Move the criterion to the selected device."
   ],
   "metadata": {
    "collapsed": false
   }
  },
  {
   "cell_type": "code",
   "execution_count": null,
   "outputs": [],
   "source": [
    "def calculate_accuracy(y_pred, y):\n",
    "    \"\"\"\n",
    "    Calculate the accuracy of the model's predictions.\n",
    "\n",
    "    Args:\n",
    "        y_pred: The predicted output probabilities or logits from the model.\n",
    "        y: The true labels or target values.\n",
    "\n",
    "    Returns:\n",
    "        acc: The accuracy of the model's predictions.\n",
    "    \"\"\"\n",
    "    top_pred = y_pred.argmax(1, keepdim=True)\n",
    "    # Select the class with the highest probability.\n",
    "\n",
    "    correct = top_pred.eq(y.view_as(top_pred)).sum()\n",
    "    # Count the number of correct predictions.\n",
    "\n",
    "    acc = correct.float() / y.shape[0]\n",
    "    # Calculate the accuracy.\n",
    "\n",
    "    return acc"
   ],
   "metadata": {
    "collapsed": false
   }
  },
  {
   "cell_type": "markdown",
   "source": [
    "### Train"
   ],
   "metadata": {
    "collapsed": false
   }
  },
  {
   "cell_type": "code",
   "execution_count": null,
   "outputs": [],
   "source": [
    "def train(model, iterator, optimizer, criterion, device):\n",
    "    \"\"\"\n",
    "    Train the model on the training data.\n",
    "\n",
    "    Args:\n",
    "        model: The model to be trained.\n",
    "        iterator: The data iterator providing the training data.\n",
    "        optimizer: The optimizer used to update the model's parameters.\n",
    "        criterion: The loss criterion used to compute the training loss.\n",
    "        device: The device (CPU or GPU) on which the training will be performed.\n",
    "\n",
    "    Returns:\n",
    "        epoch_loss: The average training loss for the epoch.\n",
    "        epoch_acc: The average training accuracy for the epoch.\n",
    "    \"\"\"\n",
    "    epoch_loss = 0\n",
    "    epoch_acc = 0\n",
    "    model.train()\n",
    "\n",
    "    for (x, y) in iterator:\n",
    "        x = x.to(device)  # Move the input data to the specified device (CPU or GPU)\n",
    "        y = y.to(device)  # Move the target labels to the specified device\n",
    "        optimizer.zero_grad()  # Clear the gradients of the optimizer\n",
    "        y_pred, _ = model(x)  # Make predictions using the model on the input data\n",
    "        loss = criterion(y_pred, y)  # Compute the loss between the predicted values and the true labels\n",
    "        acc = calculate_accuracy(y_pred, y)  # Calculate the accuracy of the predictions\n",
    "        loss.backward()  # Perform backpropagation to compute the gradients of the model's parameters\n",
    "        optimizer.step()  # Update the model's parameters using the gradients and the chosen optimizer\n",
    "        epoch_loss += loss.item()  # Accumulate the loss value for the current batch to the epoch loss\n",
    "        epoch_acc += acc.item()  # Accumulate the accuracy value for the current batch to the epoch accuracy\n",
    "\n",
    "    return epoch_loss / len(iterator), epoch_acc / len(iterator)"
   ],
   "metadata": {
    "collapsed": false
   }
  },
  {
   "cell_type": "code",
   "execution_count": null,
   "outputs": [],
   "source": [
    "def evaluate(model, iterator, criterion, device):\n",
    "    \"\"\"\n",
    "    Evaluates the performance of a model on a given data iterator.\n",
    "\n",
    "    Args:\n",
    "        model (torch.nn.Module): The model to evaluate.\n",
    "        iterator (torch.utils.data.DataLoader): The data iterator.\n",
    "        criterion: The loss function used for evaluation.\n",
    "        device (torch.device): The device to run the evaluation on (CPU or GPU).\n",
    "\n",
    "    Returns:\n",
    "        Tuple[float, float]: A tuple containing the average loss and accuracy over the data iterator.\n",
    "    \"\"\"\n",
    "    epoch_loss = 0\n",
    "    epoch_acc = 0\n",
    "    model.eval()\n",
    "\n",
    "    # Disable gradient calculation since no backpropagation is needed\n",
    "    with torch.no_grad():\n",
    "        for (x, y) in iterator:\n",
    "            x = x.to(device)  # Move the input data to the specified device (CPU or GPU)\n",
    "            y = y.to(device)  # Move the target labels to the specified device\n",
    "\n",
    "            y_pred, _ = model(x)  # Make predictions using the model on the input data\n",
    "\n",
    "            loss = criterion(y_pred, y)  # Compute the loss between the predicted values and the true labels\n",
    "\n",
    "            acc = calculate_accuracy(y_pred, y)  # Calculate the accuracy of the predictions\n",
    "\n",
    "            epoch_loss += loss.item()  # Accumulate the loss value for the current batch to the epoch loss\n",
    "            epoch_acc += acc.item()  # Accumulate the accuracy value for the current batch to the epoch accuracy\n",
    "\n",
    "    return epoch_loss / len(iterator), epoch_acc / len(iterator)"
   ],
   "metadata": {
    "collapsed": false
   }
  },
  {
   "cell_type": "code",
   "execution_count": null,
   "outputs": [],
   "source": [
    "def epoch_time(start_time, end_time):\n",
    "    \"\"\"\n",
    "    Calculate the elapsed time in minutes and seconds.\n",
    "\n",
    "    Args:\n",
    "        start_time: The starting time of the epoch.\n",
    "        end_time: The ending time of the epoch.\n",
    "\n",
    "    Returns:\n",
    "        elapsed_mins (int): The elapsed time in minutes.\n",
    "        elapsed_secs (int): The elapsed time in seconds.\n",
    "\n",
    "    \"\"\"\n",
    "    elapsed_time = end_time - start_time\n",
    "    elapsed_mins = int(elapsed_time / 60)\n",
    "    elapsed_secs = int(elapsed_time - (elapsed_mins * 60))\n",
    "    return elapsed_mins, elapsed_secs"
   ],
   "metadata": {
    "collapsed": false
   }
  },
  {
   "cell_type": "code",
   "execution_count": null,
   "outputs": [],
   "source": [
    "EPOCHS = 5\n",
    "best_valid_loss = float('inf')\n",
    "\n",
    "for epoch in range(EPOCHS):\n",
    "\n",
    "    #start epoch time measurement\n",
    "    start_time = time.monotonic()\n",
    "\n",
    "    # Training phase\n",
    "    train_loss, train_acc = train(model, train_iterator, optimizer, criterion, device)\n",
    "\n",
    "    # Evaluation phase on validation data\n",
    "    valid_loss, valid_acc = evaluate(model, valid_iterator, criterion, device)\n",
    "\n",
    "    # Check if current validation loss is the best so far\n",
    "    if valid_loss < best_valid_loss:\n",
    "        best_valid_loss = valid_loss\n",
    "        torch.save(model.state_dict(), 'tut1-model.pt')  # Save the model's state_dict\n",
    "\n",
    "    #end epoch time measurement\n",
    "    end_time = time.monotonic()\n",
    "\n",
    "    epoch_mins, epoch_secs = epoch_time(start_time, end_time)\n",
    "\n",
    "    # Print epoch summary\n",
    "    print(f'Epoch: {epoch+1:02} | Epoch Time: {epoch_mins}m {epoch_secs}s')\n",
    "    print(f'\\tTrain Loss: {train_loss:.3f} | Train Acc: {train_acc*100:.2f}%')\n",
    "    print(f'\\t Val. Loss: {valid_loss:.3f} |  Val. Acc: {valid_acc*100:.2f}%')"
   ],
   "metadata": {
    "collapsed": false
   }
  }
 ],
 "metadata": {
  "kernelspec": {
   "display_name": "Python 3",
   "language": "python",
   "name": "python3"
  },
  "language_info": {
   "codemirror_mode": {
    "name": "ipython",
    "version": 2
   },
   "file_extension": ".py",
   "mimetype": "text/x-python",
   "name": "python",
   "nbconvert_exporter": "python",
   "pygments_lexer": "ipython2",
   "version": "2.7.6"
  }
 },
 "nbformat": 4,
 "nbformat_minor": 0
}
