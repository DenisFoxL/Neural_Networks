{
 "cells": [
  {
   "cell_type": "code",
   "execution_count": 1,
   "outputs": [],
   "source": [
    "import torch\n",
    "\n",
    "class BinaryClassification(torch.nn.Module):\n",
    "    def __init__(self, input_dimension):\n",
    "        \"\"\"\n",
    "        A PyTorch module for binary classification.\n",
    "\n",
    "        Parameters:\n",
    "        input_dimension (int): The number of input features.\n",
    "        \"\"\"\n",
    "        super().__init__()\n",
    "        self.linear = torch.nn.Linear(input_dimension, 1)\n",
    "\n",
    "    def forward(self, x):\n",
    "        \"\"\"\n",
    "        Forward pass through the binary classification model.\n",
    "\n",
    "        Parameters:\n",
    "        x (torch.Tensor): The input tensor of shape (batch_size, input_dimension).\n",
    "\n",
    "        Returns:\n",
    "        output (torch.Tensor): The output tensor of shape (batch_size, 1).\n",
    "        \"\"\"\n",
    "        output = self.linear(x)\n",
    "        return output"
   ],
   "metadata": {
    "collapsed": false
   }
  },
  {
   "cell_type": "code",
   "execution_count": 19,
   "outputs": [],
   "source": [
    "def train(model, criterion, optimizer, X_train, Y_train, n_epochs=1000):\n",
    "    \"\"\"\n",
    "    Trains a PyTorch model using the specified loss function and optimizer.\n",
    "\n",
    "    Parameters:\n",
    "    model (torch.nn.Module): The PyTorch model to train.\n",
    "    criterion (torch.nn.modules.loss._Loss): The loss function to use.\n",
    "    optimizer (torch.optim.Optimizer): The optimizer to use.\n",
    "    X_train (torch.Tensor): The input tensor of shape (n_samples, n_features) for training.\n",
    "    Y_train (torch.Tensor): The target tensor of shape (n_samples,) for training.\n",
    "    n_epochs (int): The number of training epochs.\n",
    "\n",
    "    Returns:\n",
    "    train_losses (numpy.ndarray): The training losses for each epoch.\n",
    "    test_losses (numpy.ndarray): The test losses for each epoch.\n",
    "    \"\"\"\n",
    "    train_losses = np.zeros(n_epochs)\n",
    "    test_losses = np.zeros(n_epochs)\n",
    "\n",
    "    for i in range(n_epochs):\n",
    "        # Forward pass\n",
    "        outputs = model(X_train)\n",
    "        loss = criterion(outputs, Y_train)\n",
    "\n",
    "        # Backward pass\n",
    "        optimizer.zero_grad()\n",
    "        loss.backward()\n",
    "        optimizer.step()\n",
    "\n",
    "        # Compute test loss\n",
    "        outputs_test = model(X_test)\n",
    "        loss_test = criterion(outputs_test, Y_test)\n",
    "\n",
    "        # Save losses\n",
    "        train_losses[i] = loss.item()\n",
    "        test_losses[i] = loss_test.item()\n",
    "\n",
    "        # Print progress\n",
    "        if i % 50 == 0:\n",
    "            print(f\"In epoch {i+1}/{n_epochs}, training loss: {loss.item():.4f}, test loss: {loss_test.item():.4f}\")\n",
    "\n",
    "    return train_losses, test_losses"
   ],
   "metadata": {
    "collapsed": false
   }
  },
  {
   "cell_type": "code",
   "execution_count": 15,
   "outputs": [],
   "source": [
    "def configure_loss_function():\n",
    "    \"\"\"\n",
    "    Returns a binary cross-entropy loss function with logits.\n",
    "\n",
    "    Returns:\n",
    "    torch.nn.BCEWithLogitsLoss: The binary cross-entropy loss function with logits.\n",
    "    \"\"\"\n",
    "    return torch.nn.BCEWithLogitsLoss()\n",
    "\n",
    "def configure_optimizer(model, lr=0.01):\n",
    "    \"\"\"\n",
    "    Returns a stochastic gradient descent optimizer with the specified learning rate.\n",
    "\n",
    "    Parameters:\n",
    "    model (torch.nn.Module): The PyTorch model to optimize.\n",
    "    lr (float): The learning rate for the optimizer.\n",
    "\n",
    "    Returns:\n",
    "    torch.optim.SGD: The stochastic gradient descent optimizer with the specified learning rate.\n",
    "    \"\"\"\n",
    "    return torch.optim.SGD(model.parameters(), lr)"
   ],
   "metadata": {
    "collapsed": false
   }
  },
  {
   "cell_type": "code",
   "execution_count": 4,
   "outputs": [],
   "source": [
    "def evaluate(model, X_train, Y_train, X_test, Y_test):\n",
    "    \"\"\"\n",
    "    Computes the accuracy of the model on the training and test sets.\n",
    "\n",
    "    Parameters:\n",
    "    model (torch.nn.Module): The PyTorch model to evaluate.\n",
    "    X_train (torch.Tensor): The input tensor for the training set.\n",
    "    Y_train (torch.Tensor): The ground-truth labels for the training set.\n",
    "    X_test (torch.Tensor): The input tensor for the test set.\n",
    "    Y_test (torch.Tensor): The ground-truth labels for the test set.\n",
    "\n",
    "    Returns:\n",
    "    tuple: A tuple of two floats representing the training accuracy and the test accuracy, respectively.\n",
    "    \"\"\"\n",
    "    with torch.no_grad():\n",
    "        p_train = model(X_train)  # forward pass on the training set\n",
    "        p_train = (p_train.numpy() > 0)  # convert the probabilities to binary predictions\n",
    "        train_acc = np.mean(Y_train.numpy() == p_train)  # compute the training accuracy\n",
    "        p_test = model(X_test)  # forward pass on the test set\n",
    "        p_test = (p_test.numpy() > 0)  # convert the probabilities to binary predictions\n",
    "        test_acc = np.mean(Y_test.numpy() == p_test)  # compute the test accuracy\n",
    "    return train_acc, test_acc"
   ],
   "metadata": {
    "collapsed": false
   }
  },
  {
   "cell_type": "code",
   "execution_count": 5,
   "outputs": [
    {
     "name": "stderr",
     "output_type": "stream",
     "text": [
      "C:\\Users\\denis\\anaconda3\\envs\\Geeshot\\lib\\site-packages\\scipy\\__init__.py:146: UserWarning: A NumPy version >=1.16.5 and <1.23.0 is required for this version of SciPy (detected version 1.23.5\n",
      "  warnings.warn(f\"A NumPy version >={np_minversion} and <{np_maxversion}\"\n"
     ]
    }
   ],
   "source": [
    "import numpy as np\n",
    "from sklearn.datasets import load_breast_cancer"
   ],
   "metadata": {
    "collapsed": false
   }
  },
  {
   "cell_type": "code",
   "execution_count": 6,
   "outputs": [],
   "source": [
    "data=load_breast_cancer()\n",
    "X,Y=data.data,data.target"
   ],
   "metadata": {
    "collapsed": false
   }
  },
  {
   "cell_type": "code",
   "execution_count": 7,
   "outputs": [
    {
     "name": "stdout",
     "output_type": "stream",
     "text": [
      "['mean radius' 'mean texture' 'mean perimeter' 'mean area'\n",
      " 'mean smoothness' 'mean compactness' 'mean concavity'\n",
      " 'mean concave points' 'mean symmetry' 'mean fractal dimension'\n",
      " 'radius error' 'texture error' 'perimeter error' 'area error'\n",
      " 'smoothness error' 'compactness error' 'concavity error'\n",
      " 'concave points error' 'symmetry error' 'fractal dimension error'\n",
      " 'worst radius' 'worst texture' 'worst perimeter' 'worst area'\n",
      " 'worst smoothness' 'worst compactness' 'worst concavity'\n",
      " 'worst concave points' 'worst symmetry' 'worst fractal dimension']\n",
      "['malignant' 'benign']\n"
     ]
    }
   ],
   "source": [
    "print(data.feature_names)\n",
    "print(data.target_names)"
   ],
   "metadata": {
    "collapsed": false
   }
  },
  {
   "cell_type": "code",
   "execution_count": 8,
   "outputs": [],
   "source": [
    "from sklearn.model_selection import train_test_split\n",
    "X_train,X_test,Y_train,Y_test=train_test_split(X,Y,test_size=0.4)"
   ],
   "metadata": {
    "collapsed": false
   }
  },
  {
   "cell_type": "code",
   "execution_count": 9,
   "outputs": [],
   "source": [
    "from sklearn.preprocessing import  StandardScaler\n",
    "scaler=StandardScaler()  # create an instance of the StandardScaler class\n",
    "X_train=scaler.fit_transform(X_train)  # scale the training data using the scaler object\n",
    "X_test=scaler.fit_transform(X_test)  # scale the test data using the same scaler object"
   ],
   "metadata": {
    "collapsed": false
   }
  },
  {
   "cell_type": "code",
   "execution_count": 10,
   "outputs": [],
   "source": [
    "# convert data to PyTorch tensors\n",
    "X_train=torch.from_numpy(X_train.astype(np.float32))\n",
    "X_test=torch.from_numpy(X_test.astype(np.float32))\n",
    "Y_train=torch.from_numpy(Y_train.astype(np.float32).reshape(-1,1))\n",
    "Y_test=torch.from_numpy(Y_test.astype(np.float32).reshape(-1,1))"
   ],
   "metadata": {
    "collapsed": false
   }
  },
  {
   "cell_type": "code",
   "execution_count": 13,
   "outputs": [],
   "source": [
    "# initiate model\n",
    "num_of_samples,input_dimension=X_train.shape\n",
    "model=BinaryClassification(input_dimension)"
   ],
   "metadata": {
    "collapsed": false
   }
  },
  {
   "cell_type": "code",
   "execution_count": 20,
   "outputs": [
    {
     "name": "stdout",
     "output_type": "stream",
     "text": [
      "In this epoch 1/1000,Training loss:0.7092, Test loss:0.6864\n",
      "In this epoch 51/1000,Training loss:0.3561, Test loss:0.3393\n",
      "In this epoch 101/1000,Training loss:0.2692, Test loss:0.2535\n",
      "In this epoch 151/1000,Training loss:0.2268, Test loss:0.2115\n",
      "In this epoch 201/1000,Training loss:0.2007, Test loss:0.1855\n",
      "In this epoch 251/1000,Training loss:0.1827, Test loss:0.1676\n",
      "In this epoch 301/1000,Training loss:0.1693, Test loss:0.1543\n",
      "In this epoch 351/1000,Training loss:0.1591, Test loss:0.1441\n",
      "In this epoch 401/1000,Training loss:0.1509, Test loss:0.1360\n",
      "In this epoch 451/1000,Training loss:0.1443, Test loss:0.1293\n",
      "In this epoch 501/1000,Training loss:0.1388, Test loss:0.1238\n",
      "In this epoch 551/1000,Training loss:0.1341, Test loss:0.1190\n",
      "In this epoch 601/1000,Training loss:0.1301, Test loss:0.1150\n",
      "In this epoch 651/1000,Training loss:0.1266, Test loss:0.1115\n",
      "In this epoch 701/1000,Training loss:0.1236, Test loss:0.1083\n",
      "In this epoch 751/1000,Training loss:0.1208, Test loss:0.1056\n",
      "In this epoch 801/1000,Training loss:0.1184, Test loss:0.1031\n",
      "In this epoch 851/1000,Training loss:0.1162, Test loss:0.1009\n",
      "In this epoch 901/1000,Training loss:0.1142, Test loss:0.0988\n",
      "In this epoch 951/1000,Training loss:0.1124, Test loss:0.0970\n"
     ]
    }
   ],
   "source": [
    "criterion=configure_loss_function()  # Configure the loss function\n",
    "optimizer=configure_optimizer(model)  # Configure the optimizer\n",
    "train_losses,test_losses=train(model,criterion,optimizer,X_train,Y_train)  # Train the model"
   ],
   "metadata": {
    "collapsed": false
   }
  },
  {
   "cell_type": "code",
   "execution_count": 21,
   "outputs": [
    {
     "data": {
      "text/plain": "<Figure size 640x480 with 1 Axes>",
      "image/png": "[encoded data removed]"
     },
     "metadata": {},
     "output_type": "display_data"
    }
   ],
   "source": [
    "#plot loss\n",
    "import matplotlib.pyplot as plt\n",
    "plt.plot(train_losses,label='Train loss')\n",
    "plt.plot(test_losses,label='Test loss')\n",
    "plt.legend()\n",
    "plt.show()"
   ],
   "metadata": {
    "collapsed": false
   }
  },
  {
   "cell_type": "code",
   "execution_count": 22,
   "outputs": [
    {
     "name": "stdout",
     "output_type": "stream",
     "text": [
      "0.9765395894428153\n",
      "0.9824561403508771\n"
     ]
    }
   ],
   "source": [
    "train_acc,test_acc=evaluate(model,X_train,Y_train,X_test,Y_test)  # evaluate model\n",
    "print(train_acc)\n",
    "print(test_acc)"
   ],
   "metadata": {
    "collapsed": false
   }
  },
  {
   "cell_type": "code",
   "execution_count": null,
   "outputs": [],
   "source": [],
   "metadata": {
    "collapsed": false
   }
  }
 ],
 "metadata": {
  "kernelspec": {
   "display_name": "Python 3",
   "language": "python",
   "name": "python3"
  },
  "language_info": {
   "codemirror_mode": {
    "name": "ipython",
    "version": 2
   },
   "file_extension": ".py",
   "mimetype": "text/x-python",
   "name": "python",
   "nbconvert_exporter": "python",
   "pygments_lexer": "ipython2",
   "version": "2.7.6"
  }
 },
 "nbformat": 4,
 "nbformat_minor": 0
}
